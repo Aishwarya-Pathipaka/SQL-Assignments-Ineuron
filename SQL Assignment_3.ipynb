{
 "cells": [
  {
   "cell_type": "markdown",
   "id": "2a93ef92",
   "metadata": {},
   "source": [
    "## Q-1. Write an SQL query to print the FIRST_NAME from Worker table after removing white spaces from the right side\n"
   ]
  },
  {
   "cell_type": "code",
   "execution_count": null,
   "id": "8f12b0dd",
   "metadata": {},
   "outputs": [],
   "source": [
    "select RTRIM(FIRST_NAME) FROM Worker ;"
   ]
  },
  {
   "cell_type": "markdown",
   "id": "65e8039e",
   "metadata": {},
   "source": [
    "## Q-2. Write an SQL query that fetches the unique values of DEPARTMENT from Worker table and prints its length.\n"
   ]
  },
  {
   "cell_type": "code",
   "execution_count": null,
   "id": "8a95917c",
   "metadata": {},
   "outputs": [],
   "source": [
    "select DISTINCT(DEPARTMENT),LENGTH(DEPARTMENT) FROM Worker ;"
   ]
  },
  {
   "cell_type": "markdown",
   "id": "82765086",
   "metadata": {},
   "source": [
    "## Q-3. Write an SQL query to fetch nth max salaries from a table."
   ]
  },
  {
   "cell_type": "code",
   "execution_count": null,
   "id": "6aceb516",
   "metadata": {},
   "outputs": [],
   "source": [
    "SELECT Salary FROM Worker ORDER BY Salary DESC LIMIT 5,1;\n",
    "\n",
    "where n = 5"
   ]
  }
 ],
 "metadata": {
  "kernelspec": {
   "display_name": "Python 3 (ipykernel)",
   "language": "python",
   "name": "python3"
  },
  "language_info": {
   "codemirror_mode": {
    "name": "ipython",
    "version": 3
   },
   "file_extension": ".py",
   "mimetype": "text/x-python",
   "name": "python",
   "nbconvert_exporter": "python",
   "pygments_lexer": "ipython3",
   "version": "3.9.7"
  }
 },
 "nbformat": 4,
 "nbformat_minor": 5
}
