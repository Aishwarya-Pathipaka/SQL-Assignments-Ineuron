{
 "cells": [
  {
   "cell_type": "markdown",
   "id": "2271452c",
   "metadata": {},
   "source": [
    "## Q-13. Write an SQL query to show only odd rows from a table.\n",
    "\n"
   ]
  },
  {
   "cell_type": "code",
   "execution_count": null,
   "id": "8f12b0dd",
   "metadata": {},
   "outputs": [],
   "source": [
    "SELECT * FROM Worker WHERE MOD (empno, 2) <> 0;"
   ]
  },
  {
   "cell_type": "markdown",
   "id": "b15051ce",
   "metadata": {},
   "source": [
    "## Q-14. Write an SQL query to clone a new table from another table.\n"
   ]
  },
  {
   "cell_type": "code",
   "execution_count": null,
   "id": "ce5827bf",
   "metadata": {},
   "outputs": [],
   "source": [
    "use workDatabase CREATE TABLE WorkerClone LIKE Worker;\n",
    "\n",
    "INSERT INTO WorkerClone (empno,first_name,last_name,gender,department,salary,dateofjoining,emailid) SELECT empno,first_name,last_name,gender,department,salary,dateofjoining,emailid FROM Worker;\n",
    "\n",
    "select * from workerclone"
   ]
  }
 ],
 "metadata": {
  "kernelspec": {
   "display_name": "Python 3 (ipykernel)",
   "language": "python",
   "name": "python3"
  },
  "language_info": {
   "codemirror_mode": {
    "name": "ipython",
    "version": 3
   },
   "file_extension": ".py",
   "mimetype": "text/x-python",
   "name": "python",
   "nbconvert_exporter": "python",
   "pygments_lexer": "ipython3",
   "version": "3.9.7"
  }
 },
 "nbformat": 4,
 "nbformat_minor": 5
}
