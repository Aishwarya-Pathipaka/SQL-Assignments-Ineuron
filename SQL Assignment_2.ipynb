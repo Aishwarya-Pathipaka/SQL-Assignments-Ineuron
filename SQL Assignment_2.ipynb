{
 "cells": [
  {
   "cell_type": "markdown",
   "id": "ec989f7b",
   "metadata": {},
   "source": [
    "## Q-1. Write an SQL query to print the first three characters of FIRST_NAME from Worker table."
   ]
  },
  {
   "cell_type": "code",
   "execution_count": null,
   "id": "8f12b0dd",
   "metadata": {},
   "outputs": [],
   "source": [
    "select SUBSTRING(FIRST_NAME,1,3)from Worker table;"
   ]
  },
  {
   "cell_type": "markdown",
   "id": "4bcbfe9c",
   "metadata": {},
   "source": [
    "## Q-2. Write an SQL query to find the position of the alphabet (‘a’) in the first name column ‘Amitabh’ from Worker table.\n"
   ]
  },
  {
   "cell_type": "code",
   "execution_count": null,
   "id": "6252da78",
   "metadata": {},
   "outputs": [],
   "source": [
    "select POSITION('A' in first_name) FROM Worker WHERE first_name=‘Amitabh’"
   ]
  },
  {
   "cell_type": "markdown",
   "id": "e1576742",
   "metadata": {},
   "source": [
    "## Q-3. Write an SQL query to print the name of employees having the highest salary in each department.\n"
   ]
  },
  {
   "cell_type": "code",
   "execution_count": null,
   "id": "4afdbc4a",
   "metadata": {},
   "outputs": [],
   "source": [
    "SELECT name,department,MAX(salary) from Worker GROUPBY department;"
   ]
  }
 ],
 "metadata": {
  "kernelspec": {
   "display_name": "Python 3 (ipykernel)",
   "language": "python",
   "name": "python3"
  },
  "language_info": {
   "codemirror_mode": {
    "name": "ipython",
    "version": 3
   },
   "file_extension": ".py",
   "mimetype": "text/x-python",
   "name": "python",
   "nbconvert_exporter": "python",
   "pygments_lexer": "ipython3",
   "version": "3.9.7"
  }
 },
 "nbformat": 4,
 "nbformat_minor": 5
}
