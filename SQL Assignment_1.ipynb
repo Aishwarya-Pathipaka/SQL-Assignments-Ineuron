{
 "cells": [
  {
   "cell_type": "markdown",
   "id": "69bff1df",
   "metadata": {},
   "source": [
    "## Q-1. Write an SQL query to fetch “FIRST_NAME” from Worker table using the alias name as <WORKER_NAME>"
   ]
  },
  {
   "cell_type": "code",
   "execution_count": null,
   "id": "d28c7452",
   "metadata": {},
   "outputs": [],
   "source": [
    "select FIRST_NAME as WORKER_NAME from Worker; "
   ]
  },
  {
   "cell_type": "markdown",
   "id": "b1e94056",
   "metadata": {},
   "source": [
    "## Q-2. Write an SQL query to fetch unique values of DEPARTMENT from Worker table."
   ]
  },
  {
   "cell_type": "code",
   "execution_count": null,
   "id": "66881def",
   "metadata": {},
   "outputs": [],
   "source": [
    "select DISTINCT DEPARTMENT from Worker"
   ]
  },
  {
   "cell_type": "markdown",
   "id": "cebf755f",
   "metadata": {},
   "source": [
    "## Q-3. Write an SQL query to show the last 5 record from a table."
   ]
  },
  {
   "cell_type": "code",
   "execution_count": null,
   "id": "c578c030",
   "metadata": {},
   "outputs": [],
   "source": [
    "SELECT * FROM table\n",
    "WHERE \n",
    "ID > (SELECT COUNT(*) FROM table) - 5;"
   ]
  }
 ],
 "metadata": {
  "kernelspec": {
   "display_name": "Python 3 (ipykernel)",
   "language": "python",
   "name": "python3"
  },
  "language_info": {
   "codemirror_mode": {
    "name": "ipython",
    "version": 3
   },
   "file_extension": ".py",
   "mimetype": "text/x-python",
   "name": "python",
   "nbconvert_exporter": "python",
   "pygments_lexer": "ipython3",
   "version": "3.9.7"
  }
 },
 "nbformat": 4,
 "nbformat_minor": 5
}
