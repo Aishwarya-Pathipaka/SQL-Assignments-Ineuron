{
 "cells": [
  {
   "cell_type": "markdown",
   "id": "a74fceb7",
   "metadata": {},
   "source": [
    "## Q-1. Write an SQL query to print details of the Workers who have joined in Feb’2014.\n"
   ]
  },
  {
   "cell_type": "code",
   "execution_count": null,
   "id": "8f12b0dd",
   "metadata": {},
   "outputs": [],
   "source": [
    "Select * from Worker where year(DateOfJoining) = 2014 and month(DateOfJoining) = 2;\n",
    "\n"
   ]
  },
  {
   "cell_type": "markdown",
   "id": "c119e20f",
   "metadata": {},
   "source": [
    "## Q-2. Write an SQL query to fetch duplicate records having matching data in some fields of a table.\n"
   ]
  },
  {
   "cell_type": "code",
   "execution_count": null,
   "id": "f505efb6",
   "metadata": {},
   "outputs": [],
   "source": [
    "SELECT gender, department, COUNT() FROM worker GROUP BY gender, department HAVING COUNT() > 1;\n",
    "\n"
   ]
  },
  {
   "cell_type": "markdown",
   "id": "75dee1ef",
   "metadata": {},
   "source": [
    "## Q-3. How to remove duplicate rows from worker table.\n",
    "\n"
   ]
  },
  {
   "cell_type": "code",
   "execution_count": null,
   "id": "f909b8c7",
   "metadata": {},
   "outputs": [],
   "source": [
    "DELETE c1 FROM worker c1\n",
    "INNER JOIN worker c2\n",
    "WHERE\n",
    "c1.salary > c2.salary AND\n",
    "c1.LAST_NAME = c2.LAST_NAME\n",
    "\n"
   ]
  }
 ],
 "metadata": {
  "kernelspec": {
   "display_name": "Python 3 (ipykernel)",
   "language": "python",
   "name": "python3"
  },
  "language_info": {
   "codemirror_mode": {
    "name": "ipython",
    "version": 3
   },
   "file_extension": ".py",
   "mimetype": "text/x-python",
   "name": "python",
   "nbconvert_exporter": "python",
   "pygments_lexer": "ipython3",
   "version": "3.9.7"
  }
 },
 "nbformat": 4,
 "nbformat_minor": 5
}
