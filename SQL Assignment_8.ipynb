{
 "cells": [
  {
   "cell_type": "markdown",
   "id": "b0f4b2f0",
   "metadata": {},
   "source": [
    "## Q-15. Write an SQL query to fetch intersecting records of two tables.\n",
    "\n"
   ]
  },
  {
   "cell_type": "code",
   "execution_count": null,
   "id": "8f12b0dd",
   "metadata": {},
   "outputs": [],
   "source": [
    "select worker.empno, worker.first_name, workerclone.empno, workerclone.first_name from worker inner join workerclone on workerclone.name = worker.name\n",
    "\n"
   ]
  },
  {
   "cell_type": "markdown",
   "id": "57ca097e",
   "metadata": {},
   "source": [
    "## Q-16. Write an SQL query to show records from one table that another table does not have.\n"
   ]
  },
  {
   "cell_type": "code",
   "execution_count": null,
   "id": "37d918b4",
   "metadata": {},
   "outputs": [],
   "source": [
    "SELECT w.empno,  w.first_name , wc.empno,  wc.first_name\n",
    "FROM workerclone w\n",
    "LEFT JOIN worker wc\n",
    "ON w.first_name = wc.first_name;"
   ]
  }
 ],
 "metadata": {
  "kernelspec": {
   "display_name": "Python 3 (ipykernel)",
   "language": "python",
   "name": "python3"
  },
  "language_info": {
   "codemirror_mode": {
    "name": "ipython",
    "version": 3
   },
   "file_extension": ".py",
   "mimetype": "text/x-python",
   "name": "python",
   "nbconvert_exporter": "python",
   "pygments_lexer": "ipython3",
   "version": "3.9.7"
  }
 },
 "nbformat": 4,
 "nbformat_minor": 5
}
