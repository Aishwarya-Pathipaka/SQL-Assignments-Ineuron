{
 "cells": [
  {
   "cell_type": "markdown",
   "id": "cdb69f86",
   "metadata": {},
   "source": [
    "## Q-1. Write an SQL query to print the FIRST_NAME from Worker table after replacing ‘a’ with ‘A’.\n"
   ]
  },
  {
   "cell_type": "code",
   "execution_count": null,
   "id": "8f12b0dd",
   "metadata": {},
   "outputs": [],
   "source": [
    "SELECT REPLACE(first_name, \"a\", \"A\") FROM worker;"
   ]
  },
  {
   "cell_type": "markdown",
   "id": "24521c31",
   "metadata": {},
   "source": [
    "## Q-2. Write an SQL query to print all Worker details from the Worker table order by FIRST_NAME Ascending and DEPARTMENT Descending.¶\n"
   ]
  },
  {
   "cell_type": "code",
   "execution_count": null,
   "id": "0fa614f7",
   "metadata": {},
   "outputs": [],
   "source": [
    "SELECT * FROM worker ORDER BY first_name ASC, department DESC;"
   ]
  },
  {
   "cell_type": "markdown",
   "id": "76c5c211",
   "metadata": {},
   "source": [
    "## Q-3. Write an SQL query to fetch the names of workers who earn the highest salary."
   ]
  },
  {
   "cell_type": "code",
   "execution_count": null,
   "id": "c684be28",
   "metadata": {},
   "outputs": [],
   "source": [
    "SELECT FIRST_NAME, SALARY from Worker WHERE SALARY=(SELECT max(SALARY) from Worker);\n",
    "\n"
   ]
  }
 ],
 "metadata": {
  "kernelspec": {
   "display_name": "Python 3 (ipykernel)",
   "language": "python",
   "name": "python3"
  },
  "language_info": {
   "codemirror_mode": {
    "name": "ipython",
    "version": 3
   },
   "file_extension": ".py",
   "mimetype": "text/x-python",
   "name": "python",
   "nbconvert_exporter": "python",
   "pygments_lexer": "ipython3",
   "version": "3.9.7"
  }
 },
 "nbformat": 4,
 "nbformat_minor": 5
}
