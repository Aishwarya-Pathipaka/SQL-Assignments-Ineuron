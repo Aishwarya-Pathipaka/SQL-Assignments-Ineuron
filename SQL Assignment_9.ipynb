{
 "cells": [
  {
   "cell_type": "markdown",
   "id": "26de322d",
   "metadata": {},
   "source": [
    "## Q-17. Write an SQL query to show the top n (say 10) records of a table.\n",
    "\n"
   ]
  },
  {
   "cell_type": "code",
   "execution_count": null,
   "id": "8f12b0dd",
   "metadata": {},
   "outputs": [],
   "source": [
    "SELECT * FROM Worker ORDER BY Salary DESC LIMIT 10;"
   ]
  },
  {
   "cell_type": "markdown",
   "id": "69a2855c",
   "metadata": {},
   "source": [
    "## Q-18. Write an SQL query to determine the nth (say n=5) highest salary from a table.\n"
   ]
  },
  {
   "cell_type": "code",
   "execution_count": null,
   "id": "5fab3211",
   "metadata": {},
   "outputs": [],
   "source": [
    "SELECT Salary FROM Worker ORDER BY Salary DESC LIMIT 5,1; where n = 5"
   ]
  }
 ],
 "metadata": {
  "kernelspec": {
   "display_name": "Python 3 (ipykernel)",
   "language": "python",
   "name": "python3"
  },
  "language_info": {
   "codemirror_mode": {
    "name": "ipython",
    "version": 3
   },
   "file_extension": ".py",
   "mimetype": "text/x-python",
   "name": "python",
   "nbconvert_exporter": "python",
   "pygments_lexer": "ipython3",
   "version": "3.9.7"
  }
 },
 "nbformat": 4,
 "nbformat_minor": 5
}
