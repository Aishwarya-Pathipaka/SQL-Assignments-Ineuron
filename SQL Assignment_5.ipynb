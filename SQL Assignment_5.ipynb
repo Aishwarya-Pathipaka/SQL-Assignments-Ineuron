{
 "cells": [
  {
   "cell_type": "markdown",
   "id": "2a174c90",
   "metadata": {},
   "source": [
    "## Q-1. Write an SQL query to print details of workers excluding first names, “Vipul” and “Satish” from Worker table."
   ]
  },
  {
   "cell_type": "code",
   "execution_count": null,
   "id": "8f12b0dd",
   "metadata": {},
   "outputs": [],
   "source": [
    "Select * from Worker where FIRST_NAME not in ('Vipul','Satish');\n"
   ]
  },
  {
   "cell_type": "markdown",
   "id": "eb52586c",
   "metadata": {},
   "source": [
    "## Q-2. Write an SQL query to print details of the Workers whose FIRST_NAME ends with ‘h’ and contains six alphabets"
   ]
  },
  {
   "cell_type": "code",
   "execution_count": null,
   "id": "4fcea380",
   "metadata": {},
   "outputs": [],
   "source": [
    "Select * from Worker where FIRST_NAME like '_____h';"
   ]
  },
  {
   "cell_type": "markdown",
   "id": "de87e44f",
   "metadata": {},
   "source": [
    "## Q-3. Q-3. Write a query to validate Email of Employee.\n"
   ]
  },
  {
   "cell_type": "code",
   "execution_count": null,
   "id": "78ceb7d9",
   "metadata": {},
   "outputs": [],
   "source": [
    "SELECT * FROM worker WHERE emailid NOT LIKE '[0-9a-zA-Z]%@%.%'\n",
    "\n"
   ]
  }
 ],
 "metadata": {
  "kernelspec": {
   "display_name": "Python 3 (ipykernel)",
   "language": "python",
   "name": "python3"
  },
  "language_info": {
   "codemirror_mode": {
    "name": "ipython",
    "version": 3
   },
   "file_extension": ".py",
   "mimetype": "text/x-python",
   "name": "python",
   "nbconvert_exporter": "python",
   "pygments_lexer": "ipython3",
   "version": "3.9.7"
  }
 },
 "nbformat": 4,
 "nbformat_minor": 5
}
